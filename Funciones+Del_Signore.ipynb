{
  "nbformat": 4,
  "nbformat_minor": 0,
  "metadata": {
    "colab": {
      "name": "Funciones+Del Signore.ipynb",
      "provenance": [],
      "authorship_tag": "ABX9TyMwIr3qQiV81IkMKjKtt3P0",
      "include_colab_link": true
    },
    "kernelspec": {
      "name": "python3",
      "display_name": "Python 3"
    },
    "language_info": {
      "name": "python"
    }
  },
  "cells": [
    {
      "cell_type": "markdown",
      "metadata": {
        "id": "view-in-github",
        "colab_type": "text"
      },
      "source": [
        "<a href=\"https://colab.research.google.com/github/vittoriadelsignore/Python/blob/main/Funciones%2BDel_Signore.ipynb\" target=\"_parent\"><img src=\"https://colab.research.google.com/assets/colab-badge.svg\" alt=\"Open In Colab\"/></a>"
      ]
    },
    {
      "cell_type": "code",
      "metadata": {
        "colab": {
          "base_uri": "https://localhost:8080/"
        },
        "id": "KtSCtMCA6TyK",
        "outputId": "d55fa806-3a19-4c05-ae7e-6c7a062c5bf3"
      },
      "source": [
        "x=5\n",
        "while x>=1:\n",
        "  print(x)\n",
        "  x-=1\n"
      ],
      "execution_count": 1,
      "outputs": [
        {
          "output_type": "stream",
          "name": "stdout",
          "text": [
            "5\n",
            "4\n",
            "3\n",
            "2\n",
            "1\n"
          ]
        }
      ]
    },
    {
      "cell_type": "code",
      "metadata": {
        "colab": {
          "base_uri": "https://localhost:8080/"
        },
        "id": "DS8i4Khf-i_a",
        "outputId": "b2226cf5-f868-4be4-c7ae-9a8b14e691df"
      },
      "source": [
        "x=5\n",
        "while x>=2:\n",
        "  print(x)\n",
        "  x-=1"
      ],
      "execution_count": 2,
      "outputs": [
        {
          "output_type": "stream",
          "name": "stdout",
          "text": [
            "5\n",
            "4\n",
            "3\n",
            "2\n"
          ]
        }
      ]
    }
  ]
}