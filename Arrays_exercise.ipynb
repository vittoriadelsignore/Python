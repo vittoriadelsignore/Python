{
  "nbformat": 4,
  "nbformat_minor": 0,
  "metadata": {
    "kernelspec": {
      "display_name": "Python 3",
      "language": "python",
      "name": "python3"
    },
    "language_info": {
      "codemirror_mode": {
        "name": "ipython",
        "version": 3
      },
      "file_extension": ".py",
      "mimetype": "text/x-python",
      "name": "python",
      "nbconvert_exporter": "python",
      "pygments_lexer": "ipython3",
      "version": "3.8.5"
    },
    "colab": {
      "name": "Arrays exercise.ipynb",
      "provenance": [],
      "collapsed_sections": [],
      "include_colab_link": true
    }
  },
  "cells": [
    {
      "cell_type": "markdown",
      "metadata": {
        "id": "view-in-github",
        "colab_type": "text"
      },
      "source": [
        "<a href=\"https://colab.research.google.com/github/vittoriadelsignore/Python/blob/main/Arrays_exercise.ipynb\" target=\"_parent\"><img src=\"https://colab.research.google.com/assets/colab-badge.svg\" alt=\"Open In Colab\"/></a>"
      ]
    },
    {
      "cell_type": "markdown",
      "metadata": {
        "id": "badCjaFKcXyA"
      },
      "source": [
        "# Ejercicio 1: Generar un array aleatorio de 100 elementos y calcular su mediana"
      ]
    },
    {
      "cell_type": "code",
      "metadata": {
        "id": "6nJvCO3AcYMn"
      },
      "source": [
        "import numpy as np"
      ],
      "execution_count": null,
      "outputs": []
    },
    {
      "cell_type": "code",
      "metadata": {
        "colab": {
          "base_uri": "https://localhost:8080/"
        },
        "id": "rDLTX7aAcYXj",
        "outputId": "95630e86-46b5-45cd-c4c0-919fac5b2c68"
      },
      "source": [
        "array_aleat_100elem=np.random.randint(100,size=100)  # array de 100 elementos aleatorios, con valores de 0 a 99\n",
        "array_aleat_100elem                                  # llamar al array"
      ],
      "execution_count": null,
      "outputs": [
        {
          "output_type": "execute_result",
          "data": {
            "text/plain": [
              "array([53,  0, 41,  4,  9, 11, 29, 13, 34, 25, 93, 20, 10, 24, 91, 17, 41,\n",
              "       93, 56, 30, 52, 38, 75, 76,  5, 11, 96, 22, 30, 99, 36, 66, 96, 84,\n",
              "       21, 16, 29, 46, 12, 58, 68, 45,  9, 92, 13, 48, 18,  9, 85,  5, 55,\n",
              "       72, 24, 63, 12, 96, 61, 92, 78, 48,  4, 59,  2,  6, 60, 10, 64, 53,\n",
              "       32, 64, 30, 94, 16, 29, 89, 72, 98, 39, 73, 79, 66, 87, 86, 12, 18,\n",
              "       80, 90,  8, 89, 96, 49, 61, 95, 70, 80, 82,  3,  7, 22, 69])"
            ]
          },
          "metadata": {
            "tags": []
          },
          "execution_count": 2
        }
      ]
    },
    {
      "cell_type": "code",
      "metadata": {
        "id": "cKvb033XcYmj",
        "outputId": "ee667195-56b2-49ad-e89e-2ce6c8d2e9c3"
      },
      "source": [
        "res=np.median(array_aleat_100elem)                   # calcular la mediana con numpy\n",
        "print(res)                                           # prueba para verificar que el codigo funciona"
      ],
      "execution_count": null,
      "outputs": [
        {
          "output_type": "stream",
          "text": [
            "55.5\n"
          ],
          "name": "stdout"
        }
      ]
    },
    {
      "cell_type": "markdown",
      "metadata": {
        "id": "0vphKGLzcYml"
      },
      "source": [
        "# Ejercicio 2: Recordar los ejercicios de calculo factorial y sumatoria de la entrega de clase 2 y repetir el ejercicio pero con los ndarrays\n"
      ]
    },
    {
      "cell_type": "markdown",
      "metadata": {
        "id": "uJFzBITfi5Dt"
      },
      "source": [
        "Factorial similar al ejercicio practico anterior"
      ]
    },
    {
      "cell_type": "code",
      "metadata": {
        "id": "fLLzSoC_cYmm"
      },
      "source": [
        "def factorial(x):                    # definir el factorial\n",
        "    resultado=1                      # empieza por el numero 1\n",
        "    array=np.array(range(1,x+1))     # uso de los arrays\n",
        "    for number in array:             # for para iterar mediante un range de valores consecutivos del 1 al x+1\n",
        "        resultado*=number            # el resultado va multiplicando por cada valor del range\n",
        "    return resultado                 # muestra el resultado"
      ],
      "execution_count": null,
      "outputs": []
    },
    {
      "cell_type": "code",
      "metadata": {
        "id": "59ZjyRB0cYmn",
        "outputId": "274c4f66-17bd-420e-d150-ce8e89fd02bd"
      },
      "source": [
        "res=factorial(5)                     # el calculo para obtener el resultado final con x=5\n",
        "print(res)                           # prueba para verificar que el codigo funciona"
      ],
      "execution_count": null,
      "outputs": [
        {
          "output_type": "stream",
          "text": [
            "120\n"
          ],
          "name": "stdout"
        }
      ]
    },
    {
      "cell_type": "markdown",
      "metadata": {
        "id": "CG7-SscUjA8U"
      },
      "source": [
        "Factorial con funciones de numpy"
      ]
    },
    {
      "cell_type": "code",
      "metadata": {
        "colab": {
          "base_uri": "https://localhost:8080/"
        },
        "id": "9on9YrWQhs4s",
        "outputId": "7f24fbf0-40dc-4eeb-a52f-f236954a2893"
      },
      "source": [
        "x=1                                   # primer valor siempre es 1\n",
        "y=5                                   # segundo valor a definir por el usuario\n",
        "resultadofactorial=np.arange(x,y+1)   # uso de arrays\n",
        "print(resultadofactorial.prod())      # funcion para calcular el factorial"
      ],
      "execution_count": null,
      "outputs": [
        {
          "output_type": "stream",
          "text": [
            "120\n"
          ],
          "name": "stdout"
        }
      ]
    },
    {
      "cell_type": "code",
      "metadata": {
        "colab": {
          "base_uri": "https://localhost:8080/"
        },
        "id": "bJPCEhAyiTOt",
        "outputId": "bd19af04-a11f-4133-c0ff-46c851601a5f"
      },
      "source": [
        "res=resultadofactorial.prod()          # aca se prueba la funcion con los numeros 2 y 6 como ejemplo\n",
        "print(res)                       # prueba para verificar que el codigo funciona"
      ],
      "execution_count": null,
      "outputs": [
        {
          "output_type": "stream",
          "text": [
            "120\n"
          ],
          "name": "stdout"
        }
      ]
    },
    {
      "cell_type": "markdown",
      "metadata": {
        "id": "Ova9GDOOjGMo"
      },
      "source": [
        "Sumatoria similar a ejercicio anterior"
      ]
    },
    {
      "cell_type": "code",
      "metadata": {
        "id": "rCjLshIGcYmq"
      },
      "source": [
        "def suma(x,y):                   # definir la funcion\n",
        "    total=0                      # empezar por total=0\n",
        "    array=np.array(range(x,y+1)) # uso de los arrays\n",
        "    if y>x:                      # si el segundo valor es mayor que el primero\n",
        "        for i in array:          # definir el rango\n",
        "            total+=i             # se incrementa segun los valores en el range\n",
        "    else:                        # si el segundo valor es menor o igual al primero, muestra el texto\n",
        "        print('el segundo numero es menor o igual al primero')\n",
        "    return total                 # muestra el total"
      ],
      "execution_count": null,
      "outputs": []
    },
    {
      "cell_type": "code",
      "metadata": {
        "id": "J0fPYbpmcYmr",
        "outputId": "b30d82eb-e89a-4e4a-d3cd-85bdaa40b3ca"
      },
      "source": [
        "res=suma(2,6)                    # aca se prueba la funcion con los numeros 2 y 6 como ejemplo\n",
        "print(res)                       # prueba para verificar que el codigo funciona"
      ],
      "execution_count": null,
      "outputs": [
        {
          "output_type": "stream",
          "text": [
            "20\n"
          ],
          "name": "stdout"
        }
      ]
    },
    {
      "cell_type": "markdown",
      "metadata": {
        "id": "Nl8y04WZjK-o"
      },
      "source": [
        "Sumatoria con numpy"
      ]
    },
    {
      "cell_type": "code",
      "metadata": {
        "colab": {
          "base_uri": "https://localhost:8080/"
        },
        "id": "usGp2PH2hMSF",
        "outputId": "ed726a9e-e5ac-4382-b9df-6547f9128339"
      },
      "source": [
        "x=2                              # primer valor\n",
        "y=6                              # segundo valor\n",
        "sumasecuencia=np.arange(x,y+1)   # uso de arrays\n",
        "print(sumasecuencia.sum())       # funcion para sumar"
      ],
      "execution_count": null,
      "outputs": [
        {
          "output_type": "stream",
          "text": [
            "20\n"
          ],
          "name": "stdout"
        }
      ]
    },
    {
      "cell_type": "code",
      "metadata": {
        "colab": {
          "base_uri": "https://localhost:8080/"
        },
        "id": "wHtnQhbehO5j",
        "outputId": "753e8357-105c-4acd-e1d7-9fd6abe011de"
      },
      "source": [
        "res=sumasecuencia.sum()          # aca se prueba la funcion con los numeros 2 y 6 como ejemplo\n",
        "print(res)                       # prueba para verificar que el codigo funciona"
      ],
      "execution_count": null,
      "outputs": [
        {
          "output_type": "stream",
          "text": [
            "20\n"
          ],
          "name": "stdout"
        }
      ]
    },
    {
      "cell_type": "markdown",
      "metadata": {
        "id": "KSjDCjIrcYmt"
      },
      "source": [
        "# Ejercicio 3: del archivo Encuesta de Sueldos de Openqube, calcular y comparar media y mediana de sueldos netos en Febrero"
      ]
    },
    {
      "cell_type": "code",
      "metadata": {
        "colab": {
          "base_uri": "https://localhost:8080/"
        },
        "id": "YjxsvJAecYmu",
        "outputId": "02c13e00-1602-4e82-f960-1ed73936ab92"
      },
      "source": [
        "Media=  100917.50               # se calcula la media (promedio) en Excel debido a que no hemos visto Pandas en el curso\n",
        "Mediana= 80000.00               # se calcula la mediana en Excel debido a que no hemos visto Pandas en el curso\n",
        "Comparacion=Media-Mediana       # la comparacion viene a ser la diferencia entre un valor y el otro, haciendo el mayor menos el menor\n",
        "Comparacion                     # mostrar resultado de la comparacion"
      ],
      "execution_count": null,
      "outputs": [
        {
          "output_type": "execute_result",
          "data": {
            "text/plain": [
              "20917.5"
            ]
          },
          "metadata": {
            "tags": []
          },
          "execution_count": 3
        }
      ]
    },
    {
      "cell_type": "code",
      "metadata": {
        "colab": {
          "base_uri": "https://localhost:8080/"
        },
        "id": "iFpMvGZYcYmw",
        "outputId": "da1a62f9-f1c8-4a15-cdae-7629b78cc73e"
      },
      "source": [
        "res=Comparacion                 # aca se prueba la formula de Comparacion\n",
        "print(res)                      # prueba para verificar que el codigo funciona"
      ],
      "execution_count": null,
      "outputs": [
        {
          "output_type": "stream",
          "text": [
            "20917.5\n"
          ],
          "name": "stdout"
        }
      ]
    }
  ]
}