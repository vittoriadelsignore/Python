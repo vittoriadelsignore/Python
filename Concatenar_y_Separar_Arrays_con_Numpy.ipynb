{
  "nbformat": 4,
  "nbformat_minor": 0,
  "metadata": {
    "colab": {
      "name": "Concatenar y Separar Arrays con Numpy.ipynb",
      "provenance": [],
      "authorship_tag": "ABX9TyOIR0811/ZQ8o6tBAIgneqD",
      "include_colab_link": true
    },
    "kernelspec": {
      "name": "python3",
      "display_name": "Python 3"
    },
    "language_info": {
      "name": "python"
    }
  },
  "cells": [
    {
      "cell_type": "markdown",
      "metadata": {
        "id": "view-in-github",
        "colab_type": "text"
      },
      "source": [
        "<a href=\"https://colab.research.google.com/github/vittoriadelsignore/Python/blob/main/Concatenar_y_Separar_Arrays_con_Numpy.ipynb\" target=\"_parent\"><img src=\"https://colab.research.google.com/assets/colab-badge.svg\" alt=\"Open In Colab\"/></a>"
      ]
    },
    {
      "cell_type": "code",
      "metadata": {
        "colab": {
          "base_uri": "https://localhost:8080/"
        },
        "id": "mC_nFxbQGKZU",
        "outputId": "ca93a79b-bbe7-4045-e323-acbb0d26526b"
      },
      "source": [
        "import numpy as np\n",
        "array = np.full(5, 5)\n",
        "array[0] = 1\n",
        "\n",
        "\n",
        "print(array)\n"
      ],
      "execution_count": 8,
      "outputs": [
        {
          "output_type": "stream",
          "name": "stdout",
          "text": [
            "[1 5 5 5 5]\n"
          ]
        }
      ]
    },
    {
      "cell_type": "code",
      "metadata": {
        "colab": {
          "base_uri": "https://localhost:8080/"
        },
        "id": "2W5l6DJxGayC",
        "outputId": "b702f2c8-5e9f-4848-de56-faaad59a08a8"
      },
      "source": [
        "array = np.random.randint(5, size=(2,3))    #aleatorios menores a 5, de tamaño 2x3\n",
        "\n",
        "print(array)"
      ],
      "execution_count": 12,
      "outputs": [
        {
          "output_type": "stream",
          "name": "stdout",
          "text": [
            "[[0 0 1]\n",
            " [4 0 4]]\n"
          ]
        }
      ]
    },
    {
      "cell_type": "code",
      "metadata": {
        "id": "LCYXrZ4VPl7O"
      },
      "source": [
        "array1 = np.ones(5)             #array con solo valores iguales a 1\n",
        "array2 = np.zeros(3)            #array con solo valores iguales a 0\n",
        "\n",
        "def recibearrays(array1, array2):            #creacion de funcion concatenar y split\n",
        "  array=[]\n",
        "  arrays_concatenados=np.concatenate([array1,array2])\n",
        "  arrays_partidos=np.split(arrays_concatenados,[4])\n",
        "  return array\n"
      ],
      "execution_count": 13,
      "outputs": []
    },
    {
      "cell_type": "code",
      "metadata": {
        "id": "AV_kurEKRH40"
      },
      "source": [
        "array1 = [1, 5, 300, 2, 0, 22]\n",
        "array2 = [2, 5, 3]"
      ],
      "execution_count": 15,
      "outputs": []
    },
    {
      "cell_type": "code",
      "metadata": {
        "colab": {
          "base_uri": "https://localhost:8080/"
        },
        "id": "bEJ6t39aTMZF",
        "outputId": "9e40a03c-5685-4b43-b9c8-f760c447dfa5"
      },
      "source": [
        "def mitad(a1,a2):          #funcion para crear mitades\n",
        "  a3=np.concatenate([a1,a2])        #concatena los arrays 1 y 2\n",
        "  mitad1,mitad2=np.split(a3,[a3.shape[0]//2])      #los separa por la mitad\n",
        "  return mitad1,mitad2,a3                         #muestra la primera mitad, la segunda mitad y el concatenado del array 1 y 2\n",
        "\n",
        "mitad(np.ones(5),np.zeros(3))     #aplicar la función"
      ],
      "execution_count": 16,
      "outputs": [
        {
          "output_type": "execute_result",
          "data": {
            "text/plain": [
              "(array([1., 1., 1., 1.]),\n",
              " array([1., 0., 0., 0.]),\n",
              " array([1., 1., 1., 1., 1., 0., 0., 0.]))"
            ]
          },
          "metadata": {},
          "execution_count": 16
        }
      ]
    },
    {
      "cell_type": "code",
      "metadata": {
        "colab": {
          "base_uri": "https://localhost:8080/"
        },
        "id": "O-O76U_fTlfV",
        "outputId": "9eccee02-7567-4284-ca63-9a9c31ed81c9"
      },
      "source": [
        "a1 = [1, 5, 300, 2, 0, 22]      #definimos un nuevo array 1\n",
        "a2 = [2, 5, 3]                  #definimos un nuevo array 2\n",
        "\n",
        "def mitad(a1,a2):\n",
        "  a3=np.concatenate([a1,a2])\n",
        "  mitad1,mitad2=np.split(a3,[a3.shape[0]//2])\n",
        "  return mitad1,mitad2,a3\n",
        "\n",
        "mitad(a1,a2)       # aplicamos la función definida"
      ],
      "execution_count": 17,
      "outputs": [
        {
          "output_type": "execute_result",
          "data": {
            "text/plain": [
              "(array([  1,   5, 300,   2]),\n",
              " array([ 0, 22,  2,  5,  3]),\n",
              " array([  1,   5, 300,   2,   0,  22,   2,   5,   3]))"
            ]
          },
          "metadata": {},
          "execution_count": 17
        }
      ]
    },
    {
      "cell_type": "code",
      "metadata": {
        "colab": {
          "base_uri": "https://localhost:8080/"
        },
        "id": "V5R7OqZhV4qi",
        "outputId": "06be430d-f3cf-48d3-9621-a2bf2d533453"
      },
      "source": [
        "a3=np.concatenate([a1,a2])       # concatenar ambos arrays\n",
        "a3"
      ],
      "execution_count": 18,
      "outputs": [
        {
          "output_type": "execute_result",
          "data": {
            "text/plain": [
              "array([  1,   5, 300,   2,   0,  22,   2,   5,   3])"
            ]
          },
          "metadata": {},
          "execution_count": 18
        }
      ]
    },
    {
      "cell_type": "code",
      "metadata": {
        "id": "Tx6HUmWVQ4-n",
        "colab": {
          "base_uri": "https://localhost:8080/"
        },
        "outputId": "3ae6887d-f70d-4a1a-b7ae-cc3e03e66a69"
      },
      "source": [
        " mitad1,mitad2=np.split(a3,[a3.shape[0]//2])     # separar en mitades\n",
        " mitad1,mitad2\n"
      ],
      "execution_count": 21,
      "outputs": [
        {
          "output_type": "execute_result",
          "data": {
            "text/plain": [
              "(array([  1,   5, 300,   2]), array([ 0, 22,  2,  5,  3]))"
            ]
          },
          "metadata": {},
          "execution_count": 21
        }
      ]
    },
    {
      "cell_type": "code",
      "metadata": {
        "colab": {
          "base_uri": "https://localhost:8080/"
        },
        "id": "bvcV4DMQXCgb",
        "outputId": "426822c1-e952-48c3-8b04-19744e07b73d"
      },
      "source": [
        "mitad1    # ver solo la primera mitad"
      ],
      "execution_count": 23,
      "outputs": [
        {
          "output_type": "execute_result",
          "data": {
            "text/plain": [
              "array([  1,   5, 300,   2])"
            ]
          },
          "metadata": {},
          "execution_count": 23
        }
      ]
    },
    {
      "cell_type": "code",
      "metadata": {
        "colab": {
          "base_uri": "https://localhost:8080/"
        },
        "id": "KW_HVS5oXDfQ",
        "outputId": "41406dc2-3bc2-4b8b-9a51-0c463c81a35f"
      },
      "source": [
        "mitad2    # ver solo la segunda mitad"
      ],
      "execution_count": 24,
      "outputs": [
        {
          "output_type": "execute_result",
          "data": {
            "text/plain": [
              "array([ 0, 22,  2,  5,  3])"
            ]
          },
          "metadata": {},
          "execution_count": 24
        }
      ]
    },
    {
      "cell_type": "code",
      "metadata": {
        "colab": {
          "base_uri": "https://localhost:8080/"
        },
        "id": "Zl9BU_7OXEtM",
        "outputId": "7ae3b8ba-2fff-437c-827b-57467bb3b31f"
      },
      "source": [
        "mitad1.mean()      # calcular el promedio de la primera mitad"
      ],
      "execution_count": 26,
      "outputs": [
        {
          "output_type": "execute_result",
          "data": {
            "text/plain": [
              "77.0"
            ]
          },
          "metadata": {},
          "execution_count": 26
        }
      ]
    },
    {
      "cell_type": "code",
      "metadata": {
        "colab": {
          "base_uri": "https://localhost:8080/"
        },
        "id": "ibBeFJDlXJQM",
        "outputId": "5a535aeb-72ef-41ed-8b45-3dc434b4e93d"
      },
      "source": [
        "np.median(mitad1)     # calcular la mediana de la primera mitad"
      ],
      "execution_count": 27,
      "outputs": [
        {
          "output_type": "execute_result",
          "data": {
            "text/plain": [
              "3.5"
            ]
          },
          "metadata": {},
          "execution_count": 27
        }
      ]
    },
    {
      "cell_type": "code",
      "metadata": {
        "id": "WN1k_3MvXRE0",
        "colab": {
          "base_uri": "https://localhost:8080/"
        },
        "outputId": "8fcfb354-4cfc-4b1e-d3bb-f5ff95bd0392"
      },
      "source": [
        "np.std(mitad1)    # calcular la desviación estandard de la primera mitad"
      ],
      "execution_count": 28,
      "outputs": [
        {
          "output_type": "execute_result",
          "data": {
            "text/plain": [
              "128.75752405199472"
            ]
          },
          "metadata": {},
          "execution_count": 28
        }
      ]
    }
  ]
}