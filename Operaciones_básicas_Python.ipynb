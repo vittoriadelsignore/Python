{
  "nbformat": 4,
  "nbformat_minor": 0,
  "metadata": {
    "colab": {
      "name": "Operaciones básicas Python.ipynb",
      "provenance": [],
      "include_colab_link": true
    },
    "kernelspec": {
      "name": "python3",
      "display_name": "Python 3"
    },
    "language_info": {
      "name": "python"
    }
  },
  "cells": [
    {
      "cell_type": "markdown",
      "metadata": {
        "id": "view-in-github",
        "colab_type": "text"
      },
      "source": [
        "<a href=\"https://colab.research.google.com/github/vittoriadelsignore/Python/blob/main/Operaciones_b%C3%A1sicas_Python.ipynb\" target=\"_parent\"><img src=\"https://colab.research.google.com/assets/colab-badge.svg\" alt=\"Open In Colab\"/></a>"
      ]
    },
    {
      "cell_type": "markdown",
      "metadata": {
        "id": "0HIOw0cOU9qM"
      },
      "source": [
        "### Algunos tipos de datos"
      ]
    },
    {
      "cell_type": "markdown",
      "metadata": {
        "id": "8aX-mG-tXv5L"
      },
      "source": [
        "#### Números "
      ]
    },
    {
      "cell_type": "code",
      "metadata": {
        "id": "h3vqfPPsVGDh",
        "colab": {
          "base_uri": "https://localhost:8080/"
        },
        "outputId": "f4a5cd14-dfc1-411a-a1de-fec9cf74a76b"
      },
      "source": [
        "x = 3\n",
        "Y=5.3\n",
        "print(x, type(x))"
      ],
      "execution_count": 1,
      "outputs": [
        {
          "output_type": "stream",
          "name": "stdout",
          "text": [
            "3 <class 'int'>\n"
          ]
        }
      ]
    },
    {
      "cell_type": "code",
      "metadata": {
        "id": "j_hqqhAdVYTV",
        "colab": {
          "base_uri": "https://localhost:8080/"
        },
        "outputId": "045259bc-a59e-43be-d30b-c24149c177a6"
      },
      "source": [
        "print(x + 1)   # Suma\n",
        "print(x - 1)   # Resta\n",
        "print(x * 2)   # Multip\n",
        "print(x ** 2)  # Expon"
      ],
      "execution_count": 2,
      "outputs": [
        {
          "output_type": "stream",
          "name": "stdout",
          "text": [
            "4\n",
            "2\n",
            "6\n",
            "9\n"
          ]
        }
      ]
    },
    {
      "cell_type": "code",
      "metadata": {
        "id": "WJ_lJxPGWU6M",
        "colab": {
          "base_uri": "https://localhost:8080/"
        },
        "outputId": "7532cc82-d820-41e4-e81d-ed55cf7327db"
      },
      "source": [
        "type(Y)"
      ],
      "execution_count": 3,
      "outputs": [
        {
          "output_type": "execute_result",
          "data": {
            "text/plain": [
              "float"
            ]
          },
          "metadata": {},
          "execution_count": 3
        }
      ]
    },
    {
      "cell_type": "markdown",
      "metadata": {
        "id": "EqRS7qhBL9fC"
      },
      "source": [
        "####Booleans"
      ]
    },
    {
      "cell_type": "code",
      "metadata": {
        "colab": {
          "base_uri": "https://localhost:8080/"
        },
        "id": "RvoImwgGL9fE",
        "outputId": "eb4dc6c1-6631-414e-fac2-20f4be399b46"
      },
      "source": [
        "t, f = True, False\n",
        "print(type(t))"
      ],
      "execution_count": 4,
      "outputs": [
        {
          "output_type": "stream",
          "name": "stdout",
          "text": [
            "<class 'bool'>\n"
          ]
        }
      ]
    },
    {
      "cell_type": "code",
      "metadata": {
        "colab": {
          "base_uri": "https://localhost:8080/"
        },
        "id": "6zYm7WzCL9fK",
        "outputId": "1677bd4c-f097-44d7-a684-94d9dec46128"
      },
      "source": [
        "print(t and f) # Logica AND;\n",
        "print(t or f)  # Logica OR;\n",
        "print(not t)   # Logica NOT;\n",
        "print(t != f)  # Logica XOR;"
      ],
      "execution_count": 5,
      "outputs": [
        {
          "output_type": "stream",
          "name": "stdout",
          "text": [
            "False\n",
            "True\n",
            "False\n",
            "True\n"
          ]
        }
      ]
    },
    {
      "cell_type": "markdown",
      "metadata": {
        "id": "UQnQWFEyL9fP"
      },
      "source": [
        "####Strings"
      ]
    },
    {
      "cell_type": "code",
      "metadata": {
        "colab": {
          "base_uri": "https://localhost:8080/"
        },
        "id": "AijEDtPFL9fP",
        "outputId": "6761864b-a999-422e-eda5-c00baea75cdd"
      },
      "source": [
        "hello = 'hello'   # se pueden utilizar comilla simple\n",
        "world = \"world\"   # o doble comilla\n",
        "print(hello, len(hello))"
      ],
      "execution_count": 6,
      "outputs": [
        {
          "output_type": "stream",
          "name": "stdout",
          "text": [
            "hello 5\n"
          ]
        }
      ]
    },
    {
      "cell_type": "code",
      "metadata": {
        "colab": {
          "base_uri": "https://localhost:8080/"
        },
        "id": "saDeaA7hL9fT",
        "outputId": "25cfd272-3f21-4170-8995-9774997fd01b"
      },
      "source": [
        "hw = hello + ' ' + world  # asi concatenamos strings\n",
        "print(hw)"
      ],
      "execution_count": 8,
      "outputs": [
        {
          "output_type": "stream",
          "name": "stdout",
          "text": [
            "hello world\n"
          ]
        }
      ]
    },
    {
      "cell_type": "markdown",
      "metadata": {
        "id": "UsIWOe0LL9fn"
      },
      "source": [
        "####Lists"
      ]
    },
    {
      "cell_type": "code",
      "metadata": {
        "colab": {
          "base_uri": "https://localhost:8080/"
        },
        "id": "hk3A8pPcL9fp",
        "outputId": "fafdf89c-3fb1-4092-917c-8da7724212b2"
      },
      "source": [
        "xs = [3, 1, 2]   # Crear una lista\n",
        "print(xs, xs[2])"
      ],
      "execution_count": 9,
      "outputs": [
        {
          "output_type": "stream",
          "name": "stdout",
          "text": [
            "[3, 1, 2] 2\n"
          ]
        }
      ]
    },
    {
      "cell_type": "code",
      "metadata": {
        "id": "cRU72pWhNu-0"
      },
      "source": [
        "LISTA=[1,2,3]\n",
        "LISTA_P=['PATO','PERRO']\n",
        "LISTA_MIX=[1,4,'PERRO']\n",
        "LISTA=[[1,2,3],[2,3,4]]\n",
        "\n"
      ],
      "execution_count": 10,
      "outputs": []
    },
    {
      "cell_type": "code",
      "metadata": {
        "colab": {
          "base_uri": "https://localhost:8080/"
        },
        "id": "pZ7Na48KOTKB",
        "outputId": "5cfeda96-b653-4492-e0f3-b2f52405a5ca"
      },
      "source": [
        "LISTA_P"
      ],
      "execution_count": 11,
      "outputs": [
        {
          "output_type": "execute_result",
          "data": {
            "text/plain": [
              "['PATO', 'PERRO']"
            ]
          },
          "metadata": {},
          "execution_count": 11
        }
      ]
    },
    {
      "cell_type": "code",
      "metadata": {
        "colab": {
          "base_uri": "https://localhost:8080/"
        },
        "id": "YCjCy_0_L9ft",
        "outputId": "7f949229-c7bc-4779-9627-2f68c556a56f"
      },
      "source": [
        "xs[2] = 'foo'    # Las listas pueden contener datos de diferentes tipos\n",
        "print(xs)"
      ],
      "execution_count": 12,
      "outputs": [
        {
          "output_type": "stream",
          "name": "stdout",
          "text": [
            "[3, 1, 'foo']\n"
          ]
        }
      ]
    },
    {
      "cell_type": "code",
      "metadata": {
        "colab": {
          "base_uri": "https://localhost:8080/"
        },
        "id": "vJ0x5cF-L9fx",
        "outputId": "21620a89-3c5e-46e6-8d1f-ba91f0cd4b1f"
      },
      "source": [
        "xs.append('bar') # Podemos agregar nuevos elementos a la lista\n",
        "print(xs)  "
      ],
      "execution_count": 13,
      "outputs": [
        {
          "output_type": "stream",
          "name": "stdout",
          "text": [
            "[3, 1, 'foo', 'bar']\n"
          ]
        }
      ]
    },
    {
      "cell_type": "code",
      "metadata": {
        "colab": {
          "base_uri": "https://localhost:8080/"
        },
        "id": "cxVCNRTNL9f1",
        "outputId": "8e666f65-b09c-4833-b0a6-5f88665ac67d"
      },
      "source": [
        "x = xs.pop()     # Y podemos remover elementos de la lista\n",
        "print(x, xs)"
      ],
      "execution_count": 14,
      "outputs": [
        {
          "output_type": "stream",
          "name": "stdout",
          "text": [
            "bar [3, 1, 'foo']\n"
          ]
        }
      ]
    },
    {
      "cell_type": "markdown",
      "metadata": {
        "id": "r7aJwGmuahyz"
      },
      "source": [
        "### Operaciones con las Listas"
      ]
    },
    {
      "cell_type": "code",
      "metadata": {
        "id": "nNA9Tza2ZaO4",
        "colab": {
          "base_uri": "https://localhost:8080/"
        },
        "outputId": "66e446a9-1b3c-4885-ee9f-d9c7f863f1e7"
      },
      "source": [
        "nums = list(range(5))    # podemos crear una lista utilizando la func range \n",
        "print(nums)         \n",
        "print(nums[2:4])    # de esta forma obtenemos solo los valores entre el index 2 y el 4\n",
        "print(nums[2:])     # de esta forma obtenemos los valores desde el index 2 en adelante\n",
        "print(nums[:2])     # de esta forma obtenemos los valores hasta el index 2\n",
        "print(nums[:])\n",
        "print(nums[2])      # de esta forma obtenemos todos los valores de la lista\n"
      ],
      "execution_count": 15,
      "outputs": [
        {
          "output_type": "stream",
          "name": "stdout",
          "text": [
            "[0, 1, 2, 3, 4]\n",
            "[2, 3]\n",
            "[2, 3, 4]\n",
            "[0, 1]\n",
            "[0, 1, 2, 3, 4]\n",
            "2\n"
          ]
        }
      ]
    },
    {
      "cell_type": "code",
      "metadata": {
        "colab": {
          "base_uri": "https://localhost:8080/"
        },
        "id": "4cCOysfWL9gA",
        "outputId": "687dde34-29fb-4c19-f573-f5a713796d53"
      },
      "source": [
        "#de esta forma utilizando la función 'for' nos podemos mover dentro de la lista\n",
        "animals = ['cat', 'dog', 'monkey']\n",
        "for animal in animals:\n",
        "    print(animal)"
      ],
      "execution_count": 16,
      "outputs": [
        {
          "output_type": "stream",
          "name": "stdout",
          "text": [
            "cat\n",
            "dog\n",
            "monkey\n"
          ]
        }
      ]
    },
    {
      "cell_type": "code",
      "metadata": {
        "colab": {
          "base_uri": "https://localhost:8080/"
        },
        "id": "IVNEwoMXL9gL",
        "outputId": "ec4fdbaa-b6bd-4f3b-c8e7-2528d1e3ca78"
      },
      "source": [
        "#estos son dos ejemplos de como con la función 'for' podemos realizar un cálculo para todos los elementos de la lista\n",
        "nums = [0, 1, 2, 3, 4]\n",
        "squares = []\n",
        "for x in nums:\n",
        "    squares.append(x ** 2)\n",
        "print(squares)"
      ],
      "execution_count": 17,
      "outputs": [
        {
          "output_type": "stream",
          "name": "stdout",
          "text": [
            "[0, 1, 4, 9, 16]\n"
          ]
        }
      ]
    },
    {
      "cell_type": "code",
      "metadata": {
        "colab": {
          "base_uri": "https://localhost:8080/"
        },
        "id": "kZxsUfV6L9gR",
        "outputId": "4a34dea8-e2b4-4e93-bde0-cfb8e168381b"
      },
      "source": [
        "nums = [0, 1, 2, 3, 4]\n",
        "squares = [x ** 2 for x in nums]\n",
        "print(squares)"
      ],
      "execution_count": 18,
      "outputs": [
        {
          "output_type": "stream",
          "name": "stdout",
          "text": [
            "[0, 1, 4, 9, 16]\n"
          ]
        }
      ]
    },
    {
      "cell_type": "markdown",
      "metadata": {
        "id": "Jd5uSRTE_8d_"
      },
      "source": [
        "Segundo Ejercicio"
      ]
    },
    {
      "cell_type": "markdown",
      "metadata": {
        "id": "qPsHSKB1L9hF"
      },
      "source": [
        "####Tuplas"
      ]
    },
    {
      "cell_type": "markdown",
      "metadata": {
        "id": "kucc0LKVL9hG"
      },
      "source": [
        "Una tupla es una lista de valores ordenadas que no pueden ser modificada:"
      ]
    },
    {
      "cell_type": "code",
      "metadata": {
        "colab": {
          "base_uri": "https://localhost:8080/"
        },
        "id": "9wHUyTKxL9hH",
        "outputId": "bb8f8c13-ba29-418b-ab06-29a7691a3533"
      },
      "source": [
        "d = (1,2,3,4,5)  # Creación de una tupla\n",
        "t = d*2       # Operaciones con tuplas\n",
        "print(type(t))       \n",
        "print(t)"
      ],
      "execution_count": 19,
      "outputs": [
        {
          "output_type": "stream",
          "name": "stdout",
          "text": [
            "<class 'tuple'>\n",
            "(1, 2, 3, 4, 5, 1, 2, 3, 4, 5)\n"
          ]
        }
      ]
    },
    {
      "cell_type": "markdown",
      "metadata": {
        "id": "AXA4jrEOL9hM"
      },
      "source": [
        "###Funciones"
      ]
    },
    {
      "cell_type": "markdown",
      "metadata": {
        "id": "WaRms-QfL9hN"
      },
      "source": [
        "Una función de Python se define utilizando 'def' a continuación vemos dos ejemplos de como podemos definir una función y luego llamarla\n",
        "\n"
      ]
    },
    {
      "cell_type": "code",
      "metadata": {
        "colab": {
          "base_uri": "https://localhost:8080/"
        },
        "id": "kiMDUr58L9hN",
        "outputId": "efe2d3fa-9ab9-4b25-b42f-0caf9528b667"
      },
      "source": [
        "def sign(x):\n",
        "    if x > 0:\n",
        "      return 'positive'\n",
        "    elif x < 0:\n",
        "      return 'negative'\n",
        "    else:\n",
        "      return 'zero'\n",
        "\n",
        "for x in [-1, 0, 1]:\n",
        "    print(sign(x))"
      ],
      "execution_count": 20,
      "outputs": [
        {
          "output_type": "stream",
          "name": "stdout",
          "text": [
            "negative\n",
            "zero\n",
            "positive\n"
          ]
        }
      ]
    },
    {
      "cell_type": "code",
      "metadata": {
        "id": "8kZtWVnZ3JvE"
      },
      "source": [
        "def autosuma(numero):\n",
        "  total=0\n",
        "  if numero % 2==0:\n",
        "    for n in range (numero):\n",
        "      total+=n\n",
        "    return total\n",
        "  else:\n",
        "    print (numero)\n",
        "    return numero\n"
      ],
      "execution_count": 21,
      "outputs": []
    },
    {
      "cell_type": "code",
      "metadata": {
        "colab": {
          "base_uri": "https://localhost:8080/"
        },
        "id": "Bd0c151o5tdL",
        "outputId": "6599c404-97f4-4221-aac7-75f6fbeb948f"
      },
      "source": [
        "autosuma(4)"
      ],
      "execution_count": 22,
      "outputs": [
        {
          "output_type": "execute_result",
          "data": {
            "text/plain": [
              "6"
            ]
          },
          "metadata": {},
          "execution_count": 22
        }
      ]
    },
    {
      "cell_type": "markdown",
      "metadata": {
        "id": "ttuj6Db9UOpK"
      },
      "source": [
        ""
      ]
    }
  ]
}